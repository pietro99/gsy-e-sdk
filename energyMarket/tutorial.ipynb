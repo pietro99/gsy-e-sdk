{
 "cells": [
  {
   "cell_type": "code",
   "execution_count": null,
   "id": "9b1b3225",
   "metadata": {},
   "outputs": [],
   "source": [
    "import b4p"
   ]
  },
  {
   "cell_type": "markdown",
   "id": "15eb2541",
   "metadata": {},
   "source": [
    "## Initialization\n",
    "the library needs to be initiated to create a connection through the blockchain. The connection should be fairly quick, if it is stuck forever it is likely to be because the API keys inside the .env file are missing."
   ]
  },
  {
   "cell_type": "code",
   "execution_count": null,
   "id": "4c9ccc4a",
   "metadata": {},
   "outputs": [],
   "source": [
    "if not b4p.started():\n",
    "    b4p.init()"
   ]
  },
  {
   "cell_type": "markdown",
   "id": "c0172234",
   "metadata": {},
   "source": [
    "## Accounts\n",
    "accounts can be used by calling the Accounts class specifying the account name between square brakets. By default an admin account is created at initialization"
   ]
  },
  {
   "cell_type": "code",
   "execution_count": null,
   "id": "8f693f46",
   "metadata": {},
   "outputs": [],
   "source": [
    "b4p.Accounts[\"admin\"]"
   ]
  },
  {
   "cell_type": "markdown",
   "id": "e848f1a2",
   "metadata": {},
   "source": [
    "but you can also create new accounts like this"
   ]
  },
  {
   "cell_type": "code",
   "execution_count": null,
   "id": "59bb51f6",
   "metadata": {},
   "outputs": [],
   "source": [
    "b4p.Accounts.new(\"producer\")\n",
    "b4p.Accounts.new(\"consumer\")"
   ]
  },
  {
   "cell_type": "markdown",
   "id": "79015591",
   "metadata": {},
   "source": [
    "## Creating Markets\n",
    "a new market can be launced by specifying a name and the name of an account will be the market admin "
   ]
  },
  {
   "cell_type": "code",
   "execution_count": null,
   "id": "8a8d9aec",
   "metadata": {},
   "outputs": [],
   "source": [
    "neighborhood1 = b4p.Markets.new(\"neighborhood1\", \"admin\")\n",
    "neighborhood2 = b4p.Markets.new(\"neighborhood2\", \"admin\")"
   ]
  },
  {
   "cell_type": "markdown",
   "id": "68342d73",
   "metadata": {},
   "source": [
    "by default the accounts will be created with a fee set to zero and no connection to other markets. but that can be specified differently at creation. each market can be connected to two other markets. these connections represent where the bids and offers will be go when forwarded. specifically, if an offer or bid comes from connection1 once forwarded will go to connection2 and vice versa. The market fees are specified in cents/kwh"
   ]
  },
  {
   "cell_type": "code",
   "execution_count": null,
   "id": "c8810a95",
   "metadata": {},
   "outputs": [],
   "source": [
    "grid = b4p.Markets.new(\"grid\", \"admin\", fee=1, connection1=neighborhood1, connection2=neighborhood2)"
   ]
  },
  {
   "cell_type": "markdown",
   "id": "a690ae65",
   "metadata": {},
   "source": [
    "## Creating producing and consuming assets\n",
    "producing and consuming assets can be created by specifying a name an account and a market that's connected to it. The market that's connected to it it's the market that will receive offers and bids when created"
   ]
  },
  {
   "cell_type": "code",
   "execution_count": null,
   "id": "94bcbc97",
   "metadata": {},
   "outputs": [],
   "source": [
    "solar_panel = b4p.ProducingAssets.new(\"solar panel\", \"producer\", \"neighborhood1\")\n",
    "load = b4p.ConsumingAssets.new(\"load\", \"consumer\", \"neighborhood2\")"
   ]
  },
  {
   "cell_type": "markdown",
   "id": "662d328e",
   "metadata": {},
   "source": [
    "market connections can be set through a function as well"
   ]
  },
  {
   "cell_type": "code",
   "execution_count": null,
   "id": "68decb40",
   "metadata": {},
   "outputs": [],
   "source": [
    "neighborhood1.setConnections(\"grid\")\n",
    "neighborhood2.setConnections(\"grid\")"
   ]
  },
  {
   "cell_type": "markdown",
   "id": "e136f2c7",
   "metadata": {},
   "source": [
    "## Creating bids/offers\n",
    "bids and offers are created with the following functions by specifying the price and the amount of energy. the bids and offer will then go to the connected markets"
   ]
  },
  {
   "cell_type": "code",
   "execution_count": null,
   "id": "b4b41865",
   "metadata": {},
   "outputs": [],
   "source": [
    "solar_panel.createOffer(7, 10)\n",
    "load.createBid(10, 10)"
   ]
  },
  {
   "cell_type": "markdown",
   "id": "cb08e7ef",
   "metadata": {},
   "source": [
    "## Forwarding bids/offers\n",
    "forwarding bids and offers can be done in the following way by specifying the id of the offer/bid. (Always 0 for now)"
   ]
  },
  {
   "cell_type": "code",
   "execution_count": null,
   "id": "646c7b0b",
   "metadata": {},
   "outputs": [],
   "source": [
    "neighborhood2.forwardBid(0)\n",
    "neighborhood1.forwardOffer(0)"
   ]
  },
  {
   "cell_type": "markdown",
   "id": "05393ee6",
   "metadata": {},
   "source": [
    "### to check the balance of accounts, assets and markets can be done the following way:"
   ]
  },
  {
   "cell_type": "code",
   "execution_count": null,
   "id": "e79e8181",
   "metadata": {},
   "outputs": [],
   "source": [
    "print(f'solar panel balance: {b4p.ProducingAssets[\"solar panel\"].balanceEURS()/100}')\n",
    "print(f'load balance: {b4p.ConsumingAssets[\"load\"].balanceEURS()/100}')\n",
    "print(f'grid market balance: {b4p.Markets[\"grid\"].balanceEURS()/100}')"
   ]
  },
  {
   "cell_type": "markdown",
   "id": "76fcab3c",
   "metadata": {},
   "source": [
    "considering that for testing purposes all accounts and smart contract start with a EURS balance of 10EUR the solar panel has now 10.9EUR since it accepted the bid for 10 kwh of energy at 0.1EUR each from the load asset which paid 1EUR of which the grid market took a fee of 0.01EUR/kwh = 0.1EUR. \n",
    "note that the balanceEURS() method returns the EURS balance with two decimal extra."
   ]
  }
 ],
 "metadata": {
  "kernelspec": {
   "display_name": "Python 3 (ipykernel)",
   "language": "python",
   "name": "python3"
  },
  "language_info": {
   "codemirror_mode": {
    "name": "ipython",
    "version": 3
   },
   "file_extension": ".py",
   "mimetype": "text/x-python",
   "name": "python",
   "nbconvert_exporter": "python",
   "pygments_lexer": "ipython3",
   "version": "3.10.4"
  }
 },
 "nbformat": 4,
 "nbformat_minor": 5
}
